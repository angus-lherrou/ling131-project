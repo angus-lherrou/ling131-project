{
 "cells": [
  {
   "cell_type": "code",
   "execution_count": null,
   "metadata": {},
   "outputs": [],
   "source": [
    "#!pip3 install matplotlib pandas geopandas shapely\n",
    "!pip3 uninstall cartopy\n",
    "!pip3 install git+https://github.com/snowman2/cartopy.git#@5e624fe9e958856f080cf1ebbdef7692345ac88d\n",
    "!y\n",
    "!pip3 install geoplot\n",
    "import geopandas as gpd\n",
    "import matplotlib.pyplot as plt\n",
    "from shapely.geometry import Point, Polygon\n",
    "import pandas as pd\n",
    "import geoplot as gplt\n",
    "from geoplot import crs as gcrs\n",
    "%matplotlib inline\n",
    "\n",
    "def get_cities(crs=4326, states='all'):\n",
    "    path = 'https://gist.githubusercontent.com/Miserlou/c5cd8364bf9b2420bb29/raw/2bf258763cdddd704f8ffd3ea9a3e81d25e2c6f6/cities.json'\n",
    "    cities_df = pd.read_json(path)\n",
    "    if states == 'contiguous':\n",
    "        cities_df = cities_df[(cities_df.state != 'Alaska') & (cities_df.state != 'Hawaii')]\n",
    "    elif states == 'all':\n",
    "        pass\n",
    "    else:\n",
    "        cities_df = cities_df[cities_df.state == states]\n",
    "\n",
    "    geometry = [Point(xy) for xy in zip(cities_df['longitude'], cities_df['latitude'])]\n",
    "    return gpd.geodataframe.GeoDataFrame(cities_df, crs={'init': 'epsg:4326'}, geometry=geometry).to_crs(epsg=crs)\n",
    "\n",
    "contig = gpd.read_file(gplt.datasets.get_path('contiguous_usa'))\n",
    "\n",
    "contig_cities = get_cities(4326, 'contiguous')\n",
    "\n",
    "cities_plot = gplt.kdeplot(\n",
    "    contig_cities, clip=contig.geometry,\n",
    "    shade=True, cmap='Reds',\n",
    "    projection=gcrs.AlbersEqualArea())\n",
    "\n",
    "gplt.polyplot(contig, ax=cities_plot, zorder=1)"
   ]
  },
  {
   "cell_type": "code",
   "execution_count": null,
   "metadata": {},
   "outputs": [],
   "source": []
  },
  {
   "cell_type": "code",
   "execution_count": null,
   "metadata": {},
   "outputs": [],
   "source": []
  }
 ],
 "metadata": {
  "anaconda-cloud": {},
  "kernelspec": {
   "display_name": "Python 3",
   "language": "python",
   "name": "python3"
  },
  "language_info": {
   "codemirror_mode": {
    "name": "ipython",
    "version": 3
   },
   "file_extension": ".py",
   "mimetype": "text/x-python",
   "name": "python",
   "nbconvert_exporter": "python",
   "pygments_lexer": "ipython3",
   "version": "3.7.5"
  }
 },
 "nbformat": 4,
 "nbformat_minor": 1
}
