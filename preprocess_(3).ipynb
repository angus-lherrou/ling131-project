{
  "nbformat": 4,
  "nbformat_minor": 0,
  "metadata": {
    "colab": {
      "name": "preprocess (3).ipynb",
      "provenance": [],
      "collapsed_sections": [],
      "machine_shape": "hm",
      "include_colab_link": true
    },
    "kernelspec": {
      "name": "python3",
      "display_name": "Python 3"
    }
  },
  "cells": [
    {
      "cell_type": "markdown",
      "metadata": {
        "id": "view-in-github",
        "colab_type": "text"
      },
      "source": [
        "<a href=\"https://colab.research.google.com/github/angus-lherrou/ling131-project/blob/master/preprocess_(3).ipynb\" target=\"_parent\"><img src=\"https://colab.research.google.com/assets/colab-badge.svg\" alt=\"Open In Colab\"/></a>"
      ]
    },
    {
      "cell_type": "code",
      "metadata": {
        "id": "t2DIBFo54bWd",
        "colab_type": "code",
        "outputId": "6580cb85-a1d4-4e0e-851e-140966151502",
        "colab": {
          "base_uri": "https://localhost:8080/",
          "height": 34
        }
      },
      "source": [
        "import pandas as pd\n",
        "import numpy as np\n",
        "import os\n",
        "import warnings\n",
        "\n",
        "from lightgbm import LGBMRegressor\n",
        "from sklearn.metrics import mean_squared_log_error\n",
        "\n",
        "\n",
        "pd.set_option(\"max_columns\", 500)\n",
        "\n",
        "\n",
        "# Colab library to upload files to notebook\n",
        "from google.colab import files\n",
        "\n",
        "# Install Kaggle library\n",
        "!pip install -q kaggle\n",
        "#make kaggle directory\n",
        "!mkdir .kaggle\n",
        "\n",
        "\n"
      ],
      "execution_count": 0,
      "outputs": [
        {
          "output_type": "stream",
          "text": [
            "mkdir: cannot create directory ‘.kaggle’: File exists\n"
          ],
          "name": "stdout"
        }
      ]
    },
    {
      "cell_type": "code",
      "metadata": {
        "id": "4pEJJEhZ6nzS",
        "colab_type": "code",
        "colab": {}
      },
      "source": [
        "import json\n",
        "\n",
        "#token = {YOUR API TOKE HERE}\n",
        "token = {\"username\":\"craigtattan\",\"key\":\"476b7dc16bfb763d97a6d5fe6f238191\"}\n",
        "\n",
        "with open('/content/.kaggle/kaggle.json', 'w') as file:\n",
        "    json.dump(token, file)\n",
        "\n"
      ],
      "execution_count": 0,
      "outputs": []
    },
    {
      "cell_type": "code",
      "metadata": {
        "id": "KhOfr9Ng5YRP",
        "colab_type": "code",
        "outputId": "6af9b90e-c717-4ecf-939c-303630635cfb",
        "colab": {
          "base_uri": "https://localhost:8080/",
          "height": 69
        }
      },
      "source": [
        "%cd .kaggle\n",
        "!ls\n",
        "!cp /content/.kaggle/kaggle.json ~/.kaggle/kaggle.json\n",
        "!kaggle config set -n path -v{/content}"
      ],
      "execution_count": 0,
      "outputs": [
        {
          "output_type": "stream",
          "text": [
            "/content/.kaggle\n",
            "'{'   kaggle.json\n",
            "- path is now set to: {/content}\n"
          ],
          "name": "stdout"
        }
      ]
    },
    {
      "cell_type": "code",
      "metadata": {
        "id": "_Ab0Ycne6rmu",
        "colab_type": "code",
        "outputId": "9a0f501f-5f6f-43b1-cba1-1a156bbda35e",
        "colab": {
          "base_uri": "https://localhost:8080/",
          "height": 157
        }
      },
      "source": [
        "!chmod 600 /root/.kaggle/kaggle.json\n",
        "!kaggle competitions download -c ashrae-energy-prediction"
      ],
      "execution_count": 0,
      "outputs": [
        {
          "output_type": "stream",
          "text": [
            "Warning: Looks like you're using an outdated API Version, please consider updating (server 1.5.6 / client 1.5.4)\n",
            "weather_train.csv.zip: Skipping, found more recently modified local copy (use --force to force download)\n",
            "sample_submission.csv.zip: Skipping, found more recently modified local copy (use --force to force download)\n",
            "weather_test.csv.zip: Skipping, found more recently modified local copy (use --force to force download)\n",
            "building_metadata.csv: Skipping, found more recently modified local copy (use --force to force download)\n",
            "test.csv.zip: Skipping, found more recently modified local copy (use --force to force download)\n",
            "train.csv.zip: Skipping, found more recently modified local copy (use --force to force download)\n"
          ],
          "name": "stdout"
        }
      ]
    },
    {
      "cell_type": "code",
      "metadata": {
        "id": "q7awcfJrLlZP",
        "colab_type": "code",
        "outputId": "cd374c68-e301-4ec8-e7bb-c8e6a0212974",
        "colab": {
          "base_uri": "https://localhost:8080/",
          "height": 258
        }
      },
      "source": [
        "#compress data\n",
        "\n",
        "def compress_df(df):\n",
        "    result = df.copy()\n",
        "    start_mem = df.memory_usage().sum() / 1024**2\n",
        "    for col in result.columns:      \n",
        "        col_data = result[col]\n",
        "        dn = col_data.dtype.name  \n",
        "        #this converts timestamp and primary use to numerical data\n",
        "        if dn == \"datetime64[ns]\":\n",
        "            continue\n",
        "        if dn == \"object\":  \n",
        "            result[col] = pd.to_numeric(col_data.astype(\"category\").cat.codes, downcast=\"integer\")\n",
        "        elif dn == \"bool\":\n",
        "            result[col] = col_data.astype(\"int8\")\n",
        "        elif dn.startswith(\"int\") or (col_data.round() == col_data).all():\n",
        "            result[col] = pd.to_numeric(col_data, downcast=\"integer\")\n",
        "        else:\n",
        "            result[col] = pd.to_numeric(col_data, downcast='float')\n",
        "    end_mem = result.memory_usage().sum() / 1024**2\n",
        "    print('start :' + str(start_mem))\n",
        "    print('end :' + str(end_mem))\n",
        "    return result\n",
        "\n",
        "\n",
        "#Read in the data\n",
        "\n",
        "import gc\n",
        "\n",
        "print('Reading')\n",
        "print('...')\n",
        "\n",
        "building_df = pd.read_csv('{/content}/competitions/ashrae-energy-prediction/building_metadata.csv')\n",
        "weather_train = pd.read_csv('{/content}/competitions/ashrae-energy-prediction/weather_train.csv.zip', parse_dates=['timestamp'])\n",
        "weather_test = pd.read_csv('{/content}/competitions/ashrae-energy-prediction/weather_test.csv.zip', parse_dates=['timestamp'])\n",
        "train_df = pd.read_csv('{/content}/competitions/ashrae-energy-prediction/train.csv.zip', parse_dates=['timestamp'])\n",
        "test_df = pd.read_csv('{/content}/competitions/ashrae-energy-prediction/test.csv.zip', parse_dates=['timestamp'])\n",
        "\n",
        "print('Done')\n",
        "\n",
        "compressed_train = compress_df(train_df)\n",
        "compressed_weather = compress_df(weather_train)\n",
        "compressed_build = compress_df(building_df)\n",
        "\n",
        "compressed_test_weather = compress_df(weather_test)\n",
        "compressed_test = compress_df(test_df)\n",
        "\n",
        "del train_df, weather_train, building_df, weather_test, test_df\n",
        "gc.collect()"
      ],
      "execution_count": 0,
      "outputs": [
        {
          "output_type": "stream",
          "text": [
            "Reading\n",
            "...\n",
            "Done\n",
            "start :616.946533203125\n",
            "end :289.19375228881836\n",
            "start :9.597572326660156\n",
            "end :4.932145118713379\n",
            "start :0.0664520263671875\n",
            "end :0.0222320556640625\n",
            "start :19.036888122558594\n",
            "end :9.782904624938965\n",
            "start :1272.5098876953125\n",
            "end :596.4890747070312\n"
          ],
          "name": "stdout"
        },
        {
          "output_type": "execute_result",
          "data": {
            "text/plain": [
              "0"
            ]
          },
          "metadata": {
            "tags": []
          },
          "execution_count": 6
        }
      ]
    },
    {
      "cell_type": "markdown",
      "metadata": {
        "id": "nIgNHM0Be2NG",
        "colab_type": "text"
      },
      "source": [
        "Next we can look at what data is missing in each of weather, building and train training sets."
      ]
    },
    {
      "cell_type": "code",
      "metadata": {
        "id": "98bsbEqce454",
        "colab_type": "code",
        "outputId": "4e6a38ba-f0f0-468f-da58-6e28e66cf3dc",
        "colab": {
          "base_uri": "https://localhost:8080/",
          "height": 326
        }
      },
      "source": [
        "total = compressed_weather.isnull().sum().sort_values(ascending = False)\n",
        "percent = (compressed_weather.isnull().sum()/compressed_weather.isnull().count()*100).sort_values(ascending = False)\n",
        "missing_data  = pd.concat([total, percent], axis=1, keys=['Total', 'Percent'])\n",
        "missing_data.head(17)"
      ],
      "execution_count": 0,
      "outputs": [
        {
          "output_type": "execute_result",
          "data": {
            "text/html": [
              "<div>\n",
              "<style scoped>\n",
              "    .dataframe tbody tr th:only-of-type {\n",
              "        vertical-align: middle;\n",
              "    }\n",
              "\n",
              "    .dataframe tbody tr th {\n",
              "        vertical-align: top;\n",
              "    }\n",
              "\n",
              "    .dataframe thead th {\n",
              "        text-align: right;\n",
              "    }\n",
              "</style>\n",
              "<table border=\"1\" class=\"dataframe\">\n",
              "  <thead>\n",
              "    <tr style=\"text-align: right;\">\n",
              "      <th></th>\n",
              "      <th>Total</th>\n",
              "      <th>Percent</th>\n",
              "    </tr>\n",
              "  </thead>\n",
              "  <tbody>\n",
              "    <tr>\n",
              "      <th>cloud_coverage</th>\n",
              "      <td>69173</td>\n",
              "      <td>49.489529</td>\n",
              "    </tr>\n",
              "    <tr>\n",
              "      <th>precip_depth_1_hr</th>\n",
              "      <td>50289</td>\n",
              "      <td>35.979052</td>\n",
              "    </tr>\n",
              "    <tr>\n",
              "      <th>sea_level_pressure</th>\n",
              "      <td>10618</td>\n",
              "      <td>7.596603</td>\n",
              "    </tr>\n",
              "    <tr>\n",
              "      <th>wind_direction</th>\n",
              "      <td>6268</td>\n",
              "      <td>4.484414</td>\n",
              "    </tr>\n",
              "    <tr>\n",
              "      <th>wind_speed</th>\n",
              "      <td>304</td>\n",
              "      <td>0.217496</td>\n",
              "    </tr>\n",
              "    <tr>\n",
              "      <th>dew_temperature</th>\n",
              "      <td>113</td>\n",
              "      <td>0.080845</td>\n",
              "    </tr>\n",
              "    <tr>\n",
              "      <th>air_temperature</th>\n",
              "      <td>55</td>\n",
              "      <td>0.039350</td>\n",
              "    </tr>\n",
              "    <tr>\n",
              "      <th>timestamp</th>\n",
              "      <td>0</td>\n",
              "      <td>0.000000</td>\n",
              "    </tr>\n",
              "    <tr>\n",
              "      <th>site_id</th>\n",
              "      <td>0</td>\n",
              "      <td>0.000000</td>\n",
              "    </tr>\n",
              "  </tbody>\n",
              "</table>\n",
              "</div>"
            ],
            "text/plain": [
              "                    Total    Percent\n",
              "cloud_coverage      69173  49.489529\n",
              "precip_depth_1_hr   50289  35.979052\n",
              "sea_level_pressure  10618   7.596603\n",
              "wind_direction       6268   4.484414\n",
              "wind_speed            304   0.217496\n",
              "dew_temperature       113   0.080845\n",
              "air_temperature        55   0.039350\n",
              "timestamp               0   0.000000\n",
              "site_id                 0   0.000000"
            ]
          },
          "metadata": {
            "tags": []
          },
          "execution_count": 7
        }
      ]
    },
    {
      "cell_type": "code",
      "metadata": {
        "id": "tjVv4oXWe13z",
        "colab_type": "code",
        "outputId": "7fb9ee9f-7276-478c-9377-090e48c27619",
        "colab": {
          "base_uri": "https://localhost:8080/",
          "height": 172
        }
      },
      "source": [
        "total = compressed_train.isnull().sum().sort_values(ascending = False)\n",
        "percent = (compressed_train.isnull().sum()/compressed_train.isnull().count()*100).sort_values(ascending = False)\n",
        "missing_data  = pd.concat([total, percent], axis=1, keys=['Total', 'Percent'])\n",
        "missing_data.head(22)"
      ],
      "execution_count": 0,
      "outputs": [
        {
          "output_type": "execute_result",
          "data": {
            "text/html": [
              "<div>\n",
              "<style scoped>\n",
              "    .dataframe tbody tr th:only-of-type {\n",
              "        vertical-align: middle;\n",
              "    }\n",
              "\n",
              "    .dataframe tbody tr th {\n",
              "        vertical-align: top;\n",
              "    }\n",
              "\n",
              "    .dataframe thead th {\n",
              "        text-align: right;\n",
              "    }\n",
              "</style>\n",
              "<table border=\"1\" class=\"dataframe\">\n",
              "  <thead>\n",
              "    <tr style=\"text-align: right;\">\n",
              "      <th></th>\n",
              "      <th>Total</th>\n",
              "      <th>Percent</th>\n",
              "    </tr>\n",
              "  </thead>\n",
              "  <tbody>\n",
              "    <tr>\n",
              "      <th>meter_reading</th>\n",
              "      <td>0</td>\n",
              "      <td>0.0</td>\n",
              "    </tr>\n",
              "    <tr>\n",
              "      <th>timestamp</th>\n",
              "      <td>0</td>\n",
              "      <td>0.0</td>\n",
              "    </tr>\n",
              "    <tr>\n",
              "      <th>meter</th>\n",
              "      <td>0</td>\n",
              "      <td>0.0</td>\n",
              "    </tr>\n",
              "    <tr>\n",
              "      <th>building_id</th>\n",
              "      <td>0</td>\n",
              "      <td>0.0</td>\n",
              "    </tr>\n",
              "  </tbody>\n",
              "</table>\n",
              "</div>"
            ],
            "text/plain": [
              "               Total  Percent\n",
              "meter_reading      0      0.0\n",
              "timestamp          0      0.0\n",
              "meter              0      0.0\n",
              "building_id        0      0.0"
            ]
          },
          "metadata": {
            "tags": []
          },
          "execution_count": 8
        }
      ]
    },
    {
      "cell_type": "code",
      "metadata": {
        "id": "ZF_XJfPnfPju",
        "colab_type": "code",
        "outputId": "2f6585c4-6120-486d-89ee-a2d7b3350ef3",
        "colab": {
          "base_uri": "https://localhost:8080/",
          "height": 233
        }
      },
      "source": [
        "total = compressed_build.isnull().sum().sort_values(ascending = False)\n",
        "percent = (compressed_build.isnull().sum()/compressed_build.isnull().count()*100).sort_values(ascending = False)\n",
        "missing_data  = pd.concat([total, percent], axis=1, keys=['Total', 'Percent'])\n",
        "missing_data.head(17)"
      ],
      "execution_count": 0,
      "outputs": [
        {
          "output_type": "execute_result",
          "data": {
            "text/html": [
              "<div>\n",
              "<style scoped>\n",
              "    .dataframe tbody tr th:only-of-type {\n",
              "        vertical-align: middle;\n",
              "    }\n",
              "\n",
              "    .dataframe tbody tr th {\n",
              "        vertical-align: top;\n",
              "    }\n",
              "\n",
              "    .dataframe thead th {\n",
              "        text-align: right;\n",
              "    }\n",
              "</style>\n",
              "<table border=\"1\" class=\"dataframe\">\n",
              "  <thead>\n",
              "    <tr style=\"text-align: right;\">\n",
              "      <th></th>\n",
              "      <th>Total</th>\n",
              "      <th>Percent</th>\n",
              "    </tr>\n",
              "  </thead>\n",
              "  <tbody>\n",
              "    <tr>\n",
              "      <th>floor_count</th>\n",
              "      <td>1094</td>\n",
              "      <td>75.500345</td>\n",
              "    </tr>\n",
              "    <tr>\n",
              "      <th>year_built</th>\n",
              "      <td>774</td>\n",
              "      <td>53.416149</td>\n",
              "    </tr>\n",
              "    <tr>\n",
              "      <th>square_feet</th>\n",
              "      <td>0</td>\n",
              "      <td>0.000000</td>\n",
              "    </tr>\n",
              "    <tr>\n",
              "      <th>primary_use</th>\n",
              "      <td>0</td>\n",
              "      <td>0.000000</td>\n",
              "    </tr>\n",
              "    <tr>\n",
              "      <th>building_id</th>\n",
              "      <td>0</td>\n",
              "      <td>0.000000</td>\n",
              "    </tr>\n",
              "    <tr>\n",
              "      <th>site_id</th>\n",
              "      <td>0</td>\n",
              "      <td>0.000000</td>\n",
              "    </tr>\n",
              "  </tbody>\n",
              "</table>\n",
              "</div>"
            ],
            "text/plain": [
              "             Total    Percent\n",
              "floor_count   1094  75.500345\n",
              "year_built     774  53.416149\n",
              "square_feet      0   0.000000\n",
              "primary_use      0   0.000000\n",
              "building_id      0   0.000000\n",
              "site_id          0   0.000000"
            ]
          },
          "metadata": {
            "tags": []
          },
          "execution_count": 9
        }
      ]
    },
    {
      "cell_type": "code",
      "metadata": {
        "id": "rXb6hKfroIj7",
        "colab_type": "code",
        "outputId": "06234aab-b0c6-4824-985f-8b79874c9020",
        "colab": {
          "base_uri": "https://localhost:8080/",
          "height": 326
        }
      },
      "source": [
        "total = compressed_test_weather.isnull().sum().sort_values(ascending = False)\n",
        "percent = (compressed_test_weather.isnull().sum()/compressed_test_weather.isnull().count()*100).sort_values(ascending = False)\n",
        "missing_data  = pd.concat([total, percent], axis=1, keys=['Total', 'Percent'])\n",
        "missing_data.head(17)"
      ],
      "execution_count": 0,
      "outputs": [
        {
          "output_type": "execute_result",
          "data": {
            "text/html": [
              "<div>\n",
              "<style scoped>\n",
              "    .dataframe tbody tr th:only-of-type {\n",
              "        vertical-align: middle;\n",
              "    }\n",
              "\n",
              "    .dataframe tbody tr th {\n",
              "        vertical-align: top;\n",
              "    }\n",
              "\n",
              "    .dataframe thead th {\n",
              "        text-align: right;\n",
              "    }\n",
              "</style>\n",
              "<table border=\"1\" class=\"dataframe\">\n",
              "  <thead>\n",
              "    <tr style=\"text-align: right;\">\n",
              "      <th></th>\n",
              "      <th>Total</th>\n",
              "      <th>Percent</th>\n",
              "    </tr>\n",
              "  </thead>\n",
              "  <tbody>\n",
              "    <tr>\n",
              "      <th>cloud_coverage</th>\n",
              "      <td>140448</td>\n",
              "      <td>50.658808</td>\n",
              "    </tr>\n",
              "    <tr>\n",
              "      <th>precip_depth_1_hr</th>\n",
              "      <td>95588</td>\n",
              "      <td>34.478057</td>\n",
              "    </tr>\n",
              "    <tr>\n",
              "      <th>sea_level_pressure</th>\n",
              "      <td>21265</td>\n",
              "      <td>7.670167</td>\n",
              "    </tr>\n",
              "    <tr>\n",
              "      <th>wind_direction</th>\n",
              "      <td>12370</td>\n",
              "      <td>4.461790</td>\n",
              "    </tr>\n",
              "    <tr>\n",
              "      <th>wind_speed</th>\n",
              "      <td>460</td>\n",
              "      <td>0.165919</td>\n",
              "    </tr>\n",
              "    <tr>\n",
              "      <th>dew_temperature</th>\n",
              "      <td>327</td>\n",
              "      <td>0.117947</td>\n",
              "    </tr>\n",
              "    <tr>\n",
              "      <th>air_temperature</th>\n",
              "      <td>104</td>\n",
              "      <td>0.037512</td>\n",
              "    </tr>\n",
              "    <tr>\n",
              "      <th>timestamp</th>\n",
              "      <td>0</td>\n",
              "      <td>0.000000</td>\n",
              "    </tr>\n",
              "    <tr>\n",
              "      <th>site_id</th>\n",
              "      <td>0</td>\n",
              "      <td>0.000000</td>\n",
              "    </tr>\n",
              "  </tbody>\n",
              "</table>\n",
              "</div>"
            ],
            "text/plain": [
              "                     Total    Percent\n",
              "cloud_coverage      140448  50.658808\n",
              "precip_depth_1_hr    95588  34.478057\n",
              "sea_level_pressure   21265   7.670167\n",
              "wind_direction       12370   4.461790\n",
              "wind_speed             460   0.165919\n",
              "dew_temperature        327   0.117947\n",
              "air_temperature        104   0.037512\n",
              "timestamp                0   0.000000\n",
              "site_id                  0   0.000000"
            ]
          },
          "metadata": {
            "tags": []
          },
          "execution_count": 10
        }
      ]
    },
    {
      "cell_type": "code",
      "metadata": {
        "id": "PDOv9fMmorFv",
        "colab_type": "code",
        "outputId": "efbebfdd-af07-4227-9553-7fbda12b6eb0",
        "colab": {
          "base_uri": "https://localhost:8080/",
          "height": 172
        }
      },
      "source": [
        "total = compressed_test.isnull().sum().sort_values(ascending = False)\n",
        "percent = (compressed_test.isnull().sum()/compressed_test.isnull().count()*100).sort_values(ascending = False)\n",
        "missing_data  = pd.concat([total, percent], axis=1, keys=['Total', 'Percent'])\n",
        "missing_data.head(22)"
      ],
      "execution_count": 0,
      "outputs": [
        {
          "output_type": "execute_result",
          "data": {
            "text/html": [
              "<div>\n",
              "<style scoped>\n",
              "    .dataframe tbody tr th:only-of-type {\n",
              "        vertical-align: middle;\n",
              "    }\n",
              "\n",
              "    .dataframe tbody tr th {\n",
              "        vertical-align: top;\n",
              "    }\n",
              "\n",
              "    .dataframe thead th {\n",
              "        text-align: right;\n",
              "    }\n",
              "</style>\n",
              "<table border=\"1\" class=\"dataframe\">\n",
              "  <thead>\n",
              "    <tr style=\"text-align: right;\">\n",
              "      <th></th>\n",
              "      <th>Total</th>\n",
              "      <th>Percent</th>\n",
              "    </tr>\n",
              "  </thead>\n",
              "  <tbody>\n",
              "    <tr>\n",
              "      <th>timestamp</th>\n",
              "      <td>0</td>\n",
              "      <td>0.0</td>\n",
              "    </tr>\n",
              "    <tr>\n",
              "      <th>meter</th>\n",
              "      <td>0</td>\n",
              "      <td>0.0</td>\n",
              "    </tr>\n",
              "    <tr>\n",
              "      <th>building_id</th>\n",
              "      <td>0</td>\n",
              "      <td>0.0</td>\n",
              "    </tr>\n",
              "    <tr>\n",
              "      <th>row_id</th>\n",
              "      <td>0</td>\n",
              "      <td>0.0</td>\n",
              "    </tr>\n",
              "  </tbody>\n",
              "</table>\n",
              "</div>"
            ],
            "text/plain": [
              "             Total  Percent\n",
              "timestamp        0      0.0\n",
              "meter            0      0.0\n",
              "building_id      0      0.0\n",
              "row_id           0      0.0"
            ]
          },
          "metadata": {
            "tags": []
          },
          "execution_count": 11
        }
      ]
    },
    {
      "cell_type": "markdown",
      "metadata": {
        "id": "zXvb44L7hGPY",
        "colab_type": "text"
      },
      "source": [
        "We see in the weather data we are missing 49.5% of cloud_coverage, 36% of percip_depth_1hr, 7.6% of sea_level_pressure and 4.5% of wind_direction. \n",
        "\n",
        "We need to handle these missing values. We can fill them in with a constant, but this would create a bias. We could delete rows with missing data, but this would remove too many samples.\n",
        "\n",
        "Our best option is to use **regression for interpolation. **\n",
        "\n",
        "We may also want to look at correlations between these features before we begin.\n"
      ]
    },
    {
      "cell_type": "markdown",
      "metadata": {
        "id": "YuDMcqxZCM4D",
        "colab_type": "text"
      },
      "source": [
        "# NaN Values \n",
        "\n",
        "Now we know that we have a significant amount of NaN values in weather and building data. We will impute this data using regression vie scikit learn's ItterativeImputer.\n",
        "\n",
        "We need to get a list of the label names for features that have NaN data. Itterative imputer will return an np array without label names, we'll use our list to rebuild a dataframe with labels, we'll want these later te evaluate feature importance.\n",
        "\n",
        "Next, we will one hot encode the data so taht it will work with our imputer.\n",
        "\n",
        "One we have imputed building and weather data, we will merge all three datasets.\n",
        "\n",
        "After we have merged we will deal with outliers in the next section.\n",
        "\n",
        "**Steps:**\n",
        "\n",
        "(1) we will look at NaN features\n",
        "\n",
        "(2) Next we want to look for patterns in each site to identify unusual patterns and outliers."
      ]
    },
    {
      "cell_type": "markdown",
      "metadata": {
        "id": "ldgZcrx6RNcU",
        "colab_type": "text"
      },
      "source": [
        "We can see that we have a significant amount of missing data for some features.\n",
        "\n",
        "How can we handle this missing data?\n",
        "\n",
        "*   How prevalent is the missing data?\n",
        "*   Is missing data random or does it have a pattern?\n",
        "\n",
        "We don't want to miss a bias that may be present in missing data.\n",
        "And\n",
        "we don't want to create bias when we handle mmissing data.\n",
        "\n",
        "If we delete rows - we will lose too many samples. 82% of floor count data is missing. Do we want to interpolate this? Or should we delete the column?\n",
        "\n",
        "If we fill these rows with zeros ... # explain this further\n",
        "\n",
        "The best option is to impute the missing data.\n",
        "\n",
        "There are several methods for missing data imputation as discussed in (cite paper here). Some considerations we need to make include: ...\n",
        "\n",
        "Talk about scikit learn library here."
      ]
    },
    {
      "cell_type": "code",
      "metadata": {
        "id": "U_UwnA9n0Fi6",
        "colab_type": "code",
        "colab": {}
      },
      "source": [
        "#Get list of features with NaN values in weather, build data\n",
        "nan_weather_train = [var for var in compressed_weather.columns.values if compressed_weather[var].isna().any()]\n",
        "nan_build = [var for var in compressed_build.columns.values if compressed_build[var].isna().any()]\n",
        "nan_weather_test = [var for var in compressed_test_weather.columns.values if compressed_test_weather[var].isna().any()]"
      ],
      "execution_count": 0,
      "outputs": []
    },
    {
      "cell_type": "code",
      "metadata": {
        "id": "0_3L90Z1sR8C",
        "colab_type": "code",
        "colab": {}
      },
      "source": [
        "def preprocess(df, date_string):\n",
        "    df['timestamp'] = pd.to_datetime(df['timestamp'])\n",
        "    df['seconds'] = (df['timestamp'] - pd.to_datetime(date_string)).dt.total_seconds() \n",
        "    print(df.dtypes.value_counts())\n",
        "    print(df.select_dtypes('object').apply(pd.Series.nunique, axis = 0))"
      ],
      "execution_count": 0,
      "outputs": []
    },
    {
      "cell_type": "code",
      "metadata": {
        "id": "_BBqoMxj8OfJ",
        "colab_type": "code",
        "outputId": "57b0b7c6-1a94-48bb-eabb-762cb6db64da",
        "colab": {
          "base_uri": "https://localhost:8080/",
          "height": 533
        }
      },
      "source": [
        "'One hot encoding for imputation'\n",
        "\n",
        "building_categorical = ['site_id', 'primary_use']\n",
        "weather_categorical  = ['site_id']\n",
        "\n",
        "\n",
        "\n",
        "#preprocess the datasets for time\n",
        "preprocess(compressed_weather, \"2016-01-01\")\n",
        "preprocess(compressed_train, \"2016-01-01\")\n",
        "preprocess(compressed_test, \"2017-01-01\")\n",
        "preprocess(compressed_test_weather, \"2017-01-01\")\n",
        "\n",
        "\n",
        "#One hot encode train, weather and building\n",
        "def one_hot(df, categorical_vars):\n",
        "    for var in categorical_vars:\n",
        "      print('Fitting: ' + var)\n",
        "      df = pd.concat([df, pd.get_dummies(df[var], prefix=var + '_')], axis=1)\n",
        "      df.drop([var], axis=1, inplace=True)\n",
        "    return df\n",
        "\n",
        "compressed_weather = one_hot(compressed_weather, weather_categorical)\n",
        "compressed_build = one_hot(compressed_build, building_categorical)\n",
        "compressed_weather_test = one_hot(compressed_test_weather, weather_categorical)\n",
        "\n",
        "\n",
        "#make a copy so we can keep labels after imputing\n",
        "building_impute = compressed_build.copy()\n",
        "weather_impute  = compressed_weather.copy()\n",
        "weather_test_impute = compressed_test_weather.copy()\n"
      ],
      "execution_count": 0,
      "outputs": [
        {
          "output_type": "stream",
          "text": [
            "float32           7\n",
            "datetime64[ns]    1\n",
            "int8              1\n",
            "float64           1\n",
            "dtype: int64\n",
            "Series([], dtype: float64)\n",
            "datetime64[ns]    1\n",
            "float32           1\n",
            "int16             1\n",
            "int8              1\n",
            "float64           1\n",
            "dtype: int64\n",
            "Series([], dtype: float64)\n",
            "datetime64[ns]    1\n",
            "float64           1\n",
            "int32             1\n",
            "int16             1\n",
            "int8              1\n",
            "dtype: int64\n",
            "Series([], dtype: float64)\n",
            "float32           7\n",
            "datetime64[ns]    1\n",
            "int8              1\n",
            "float64           1\n",
            "dtype: int64\n",
            "Series([], dtype: float64)\n",
            "Fitting: site_id\n",
            "Fitting: site_id\n",
            "Fitting: primary_use\n",
            "Fitting: site_id\n"
          ],
          "name": "stdout"
        }
      ]
    },
    {
      "cell_type": "code",
      "metadata": {
        "id": "152Ewhdiy5An",
        "colab_type": "code",
        "outputId": "386c6361-2cdb-49ab-d998-8d18bd965adc",
        "colab": {
          "base_uri": "https://localhost:8080/",
          "height": 34
        }
      },
      "source": [
        "from sklearn.experimental import enable_iterative_imputer \n",
        "from sklearn.impute import IterativeImputer\n",
        "\n",
        "weather_impute['timestamp'] = 0\n",
        "imputer = IterativeImputer(random_state=42)\n",
        "imputer.fit(weather_impute)\n",
        "imputed = pd.DataFrame(imputer.transform(weather_impute))\n",
        "\n",
        "#replace NaN columns in compressed_weather with new imputed columns\n",
        "for val in nan_weather_train:\n",
        "  compressed_weather[val] = imputed[list(weather_impute.columns.values).index(val)]\n",
        "\n",
        "\n",
        "del imputed, weather_impute\n",
        "gc.collect()\n"
      ],
      "execution_count": 0,
      "outputs": [
        {
          "output_type": "execute_result",
          "data": {
            "text/plain": [
              "10"
            ]
          },
          "metadata": {
            "tags": []
          },
          "execution_count": 15
        }
      ]
    },
    {
      "cell_type": "code",
      "metadata": {
        "id": "fF2McUaE7ran",
        "colab_type": "code",
        "outputId": "b33c012c-d8a4-4235-bc48-5644534ca714",
        "colab": {
          "base_uri": "https://localhost:8080/",
          "height": 34
        }
      },
      "source": [
        "weather_test_impute['timestamp'] = 0\n",
        "imputer = IterativeImputer(random_state=42)\n",
        "imputer.fit(weather_test_impute)\n",
        "imputed = pd.DataFrame(imputer.transform(weather_test_impute))\n",
        "\n",
        "#replace NaN columns in compressed_weather with new imputed columns\n",
        "for val in nan_weather_test:\n",
        "  compressed_test_weather[val] = imputed[list(weather_test_impute.columns.values).index(val)]\n",
        "\n",
        "\n",
        "del imputed, weather_test_impute\n",
        "gc.collect()\n"
      ],
      "execution_count": 0,
      "outputs": [
        {
          "output_type": "execute_result",
          "data": {
            "text/plain": [
              "22"
            ]
          },
          "metadata": {
            "tags": []
          },
          "execution_count": 16
        }
      ]
    },
    {
      "cell_type": "code",
      "metadata": {
        "id": "2zfHjINU8oGz",
        "colab_type": "code",
        "colab": {}
      },
      "source": [
        "imputer = IterativeImputer(random_state=42)\n",
        "imputer.fit(building_impute)\n",
        "imputed = pd.DataFrame(imputer.transform(building_impute))\n",
        "\n",
        "#replace NaN columns in compressed_weather with new imputed columns\n",
        "for val in nan_build:\n",
        "  compressed_build[val] = imputed[list(building_impute.columns.values).index(val)]\n"
      ],
      "execution_count": 0,
      "outputs": []
    },
    {
      "cell_type": "code",
      "metadata": {
        "id": "6AwV3V27-1OB",
        "colab_type": "code",
        "outputId": "6b58c0fe-fa5b-48ff-9b86-b3eabd476887",
        "colab": {
          "base_uri": "https://localhost:8080/",
          "height": 34
        }
      },
      "source": [
        "del imputed, building_impute\n",
        "gc.collect()"
      ],
      "execution_count": 0,
      "outputs": [
        {
          "output_type": "execute_result",
          "data": {
            "text/plain": [
              "169"
            ]
          },
          "metadata": {
            "tags": []
          },
          "execution_count": 18
        }
      ]
    },
    {
      "cell_type": "code",
      "metadata": {
        "id": "jTNJvVyMtDqD",
        "colab_type": "code",
        "outputId": "b6569d77-75e7-41bb-b8a1-8045c8595ec6",
        "colab": {
          "base_uri": "https://localhost:8080/",
          "height": 86
        }
      },
      "source": [
        "#merge train data\n",
        "\n",
        "#get vars to merge on\n",
        "site_ids = [feat for feat in compressed_build.columns.values if 'site_id' in feat]\n",
        "\n",
        "print('Merging data')\n",
        "print('...')\n",
        "\n",
        "train_df = compressed_train.merge(compressed_build, on='building_id', how='left')\n",
        "train_df = train_df.merge(compressed_weather, on=site_ids + ['timestamp', 'seconds'], how='left')\n",
        "\n",
        "\n",
        "\n",
        "print('Done')\n",
        "\n",
        "#write out test data, we will get it later and merge it when we are ready to test\n",
        "# compressed_weather_test.to_csv('compressed_weather_test.csv')\n",
        "# compressed_test.to_csv('compressed_test.csv')\n",
        "\n",
        "#del compressed_train, compressed_weather, compressed_test, compressed_weather_test\n",
        "gc.collect()"
      ],
      "execution_count": 0,
      "outputs": [
        {
          "output_type": "stream",
          "text": [
            "Merging data\n",
            "...\n",
            "Done\n"
          ],
          "name": "stdout"
        },
        {
          "output_type": "execute_result",
          "data": {
            "text/plain": [
              "0"
            ]
          },
          "metadata": {
            "tags": []
          },
          "execution_count": 19
        }
      ]
    },
    {
      "cell_type": "markdown",
      "metadata": {
        "id": "_xa6SpeVNJaS",
        "colab_type": "text"
      },
      "source": [
        "So what have we done so far?\n",
        "\n",
        "We first compressed the data in each of the trainind files.\n",
        "\n",
        "We added \n",
        "Next we one-hot encoded all categirical variables (except building id) and imputed missing values.\n",
        "\n",
        "We merged our imputed dataset into one large dataset.\n",
        "\n",
        "Now, we want to drop 'bad rows'. We have rows with zero meter readings and some outliers that we previously identified, let's take care of those now."
      ]
    },
    {
      "cell_type": "code",
      "metadata": {
        "id": "8TriDfkANGTp",
        "colab_type": "code",
        "outputId": "bd73658d-fe21-4192-c4c1-bb1f9303e348",
        "colab": {
          "base_uri": "https://localhost:8080/",
          "height": 192
        }
      },
      "source": [
        "train_df['dayofweek'] = train_df['timestamp'].dt.dayofweek\n",
        "#test_df = pd.concat([test_df, pd.get_dummies(test_df['dayofweek'], prefix='dayofweek _')], axis=1)\n",
        "#test_df.drop(['dayofweek'], axis=1, inplace=True)\n",
        "\n",
        "#Drop 1099\n",
        "\n",
        "train_df = train_df[train_df['building_id'] != 1099]\n",
        "\n",
        "\n",
        "#handle bad rows from site zero meter readings\n",
        "site_0  = train_df[train_df.site_id__0 == 1]\n",
        "train_df = train_df[train_df.site_id__0 != 1]\n",
        "\n",
        "site_0['month'] = site_0['timestamp'].dt.month\n",
        "site_0 = site_0[site_0.month != 1]\n",
        "site_0 = site_0[site_0.month != 2]\n",
        "site_0 = site_0[site_0.month != 3]\n",
        "\n",
        "site_0.drop(['month'], axis=1)\n",
        "\n",
        "train_df.append(site_0, ignore_index=True)\n",
        "\n",
        "del site_0\n",
        "gc.collect()"
      ],
      "execution_count": 0,
      "outputs": [
        {
          "output_type": "stream",
          "text": [
            "/usr/local/lib/python3.6/dist-packages/pandas/core/frame.py:7138: FutureWarning: Sorting because non-concatenation axis is not aligned. A future version\n",
            "of pandas will change to not sort by default.\n",
            "\n",
            "To accept the future behavior, pass 'sort=False'.\n",
            "\n",
            "To retain the current behavior and silence the warning, pass 'sort=True'.\n",
            "\n",
            "  sort=sort,\n"
          ],
          "name": "stderr"
        },
        {
          "output_type": "execute_result",
          "data": {
            "text/plain": [
              "0"
            ]
          },
          "metadata": {
            "tags": []
          },
          "execution_count": 20
        }
      ]
    },
    {
      "cell_type": "code",
      "metadata": {
        "id": "fz_AC8r_4HXS",
        "colab_type": "code",
        "colab": {}
      },
      "source": [
        "\\"
      ],
      "execution_count": 0,
      "outputs": []
    },
    {
      "cell_type": "code",
      "metadata": {
        "id": "ZDfK1sBxUd3K",
        "colab_type": "code",
        "colab": {}
      },
      "source": [
        "train_df['meter_reading_log1p'] = np.log1p(train_df['meter_reading'])\n",
        "#train_df.to_csv('train_merge.csv')"
      ],
      "execution_count": 0,
      "outputs": []
    },
    {
      "cell_type": "code",
      "metadata": {
        "id": "HN5j4FJq2QjC",
        "colab_type": "code",
        "outputId": "57dff66d-3557-4aef-a059-7dcd3474ba84",
        "colab": {
          "base_uri": "https://localhost:8080/",
          "height": 34
        }
      },
      "source": [
        "#del train_df\n",
        "gc.collect()"
      ],
      "execution_count": 0,
      "outputs": [
        {
          "output_type": "execute_result",
          "data": {
            "text/plain": [
              "0"
            ]
          },
          "metadata": {
            "tags": []
          },
          "execution_count": 23
        }
      ]
    },
    {
      "cell_type": "code",
      "metadata": {
        "id": "ID-2E_NcrkXc",
        "colab_type": "code",
        "outputId": "79fd23f3-3725-415c-edbb-8d59bc619810",
        "colab": {
          "base_uri": "https://localhost:8080/",
          "height": 69
        }
      },
      "source": [
        "#get preprocessed test data\n",
        "\n",
        "#compressed_test = pd.read_csv('compressed_test.csv')\n",
        "#compressed_weather_test = pd.read_csv('compressed_weather_test.csv')\n",
        "\n",
        "#merge test data\n",
        "print('Merging data')\n",
        "print('...')\n",
        "\n",
        "test_df = compressed_test.merge(compressed_build, on='building_id', how='left')\n",
        "test_df = test_df.merge(compressed_weather_test, on=site_ids + ['timestamp', 'seconds'], how='left')\n",
        "\n",
        "\n",
        "\n",
        "print('Done')\n",
        "\n",
        "del compressed_test, compressed_weather_test\n",
        "gc.collect()\n",
        "\n",
        "#add day of week (-- and one hot?)\n",
        "\n",
        "test_df['dayofweek'] = test_df['timestamp'].dt.dayofweek\n",
        "#train_df = pd.concat([train_df, pd.get_dummies(train_df['dayofweek'], prefix='dayofweek _')], axis=1)\n",
        "#train_df.drop(['dayofweek'], axis=1, inplace=True)\n"
      ],
      "execution_count": 0,
      "outputs": [
        {
          "output_type": "stream",
          "text": [
            "Merging data\n",
            "...\n",
            "Done\n"
          ],
          "name": "stdout"
        }
      ]
    },
    {
      "cell_type": "code",
      "metadata": {
        "id": "nsiQyCYebQbr",
        "colab_type": "code",
        "colab": {}
      },
      "source": [
        "total = test_df.isnull().sum().sort_values(ascending = False)\n",
        "percent = (test_df.isnull().sum()/test_df.isnull().count()*100).sort_values(ascending = False)\n",
        "missing_data  = pd.concat([total, percent], axis=1, keys=['Total', 'Percent'])\n",
        "missing_data.head(22)"
      ],
      "execution_count": 0,
      "outputs": []
    },
    {
      "cell_type": "code",
      "metadata": {
        "id": "fu8arlSM6jpS",
        "colab_type": "code",
        "outputId": "9fa4a281-7fb9-4ae2-d43f-b40f35ac66c0",
        "colab": {
          "base_uri": "https://localhost:8080/",
          "height": 309
        }
      },
      "source": [
        "test_df.head()"
      ],
      "execution_count": 0,
      "outputs": [
        {
          "output_type": "execute_result",
          "data": {
            "text/html": [
              "<div>\n",
              "<style scoped>\n",
              "    .dataframe tbody tr th:only-of-type {\n",
              "        vertical-align: middle;\n",
              "    }\n",
              "\n",
              "    .dataframe tbody tr th {\n",
              "        vertical-align: top;\n",
              "    }\n",
              "\n",
              "    .dataframe thead th {\n",
              "        text-align: right;\n",
              "    }\n",
              "</style>\n",
              "<table border=\"1\" class=\"dataframe\">\n",
              "  <thead>\n",
              "    <tr style=\"text-align: right;\">\n",
              "      <th></th>\n",
              "      <th>row_id</th>\n",
              "      <th>building_id</th>\n",
              "      <th>meter</th>\n",
              "      <th>timestamp</th>\n",
              "      <th>seconds</th>\n",
              "      <th>square_feet</th>\n",
              "      <th>year_built</th>\n",
              "      <th>floor_count</th>\n",
              "      <th>site_id__0</th>\n",
              "      <th>site_id__1</th>\n",
              "      <th>site_id__2</th>\n",
              "      <th>site_id__3</th>\n",
              "      <th>site_id__4</th>\n",
              "      <th>site_id__5</th>\n",
              "      <th>site_id__6</th>\n",
              "      <th>site_id__7</th>\n",
              "      <th>site_id__8</th>\n",
              "      <th>site_id__9</th>\n",
              "      <th>site_id__10</th>\n",
              "      <th>site_id__11</th>\n",
              "      <th>site_id__12</th>\n",
              "      <th>site_id__13</th>\n",
              "      <th>site_id__14</th>\n",
              "      <th>site_id__15</th>\n",
              "      <th>primary_use__0</th>\n",
              "      <th>primary_use__1</th>\n",
              "      <th>primary_use__2</th>\n",
              "      <th>primary_use__3</th>\n",
              "      <th>primary_use__4</th>\n",
              "      <th>primary_use__5</th>\n",
              "      <th>primary_use__6</th>\n",
              "      <th>primary_use__7</th>\n",
              "      <th>primary_use__8</th>\n",
              "      <th>primary_use__9</th>\n",
              "      <th>primary_use__10</th>\n",
              "      <th>primary_use__11</th>\n",
              "      <th>primary_use__12</th>\n",
              "      <th>primary_use__13</th>\n",
              "      <th>primary_use__14</th>\n",
              "      <th>primary_use__15</th>\n",
              "      <th>air_temperature</th>\n",
              "      <th>cloud_coverage</th>\n",
              "      <th>dew_temperature</th>\n",
              "      <th>precip_depth_1_hr</th>\n",
              "      <th>sea_level_pressure</th>\n",
              "      <th>wind_direction</th>\n",
              "      <th>wind_speed</th>\n",
              "      <th>dayofweek</th>\n",
              "    </tr>\n",
              "  </thead>\n",
              "  <tbody>\n",
              "    <tr>\n",
              "      <th>0</th>\n",
              "      <td>0</td>\n",
              "      <td>0</td>\n",
              "      <td>0</td>\n",
              "      <td>2017-01-01</td>\n",
              "      <td>0.0</td>\n",
              "      <td>7432</td>\n",
              "      <td>2008.0</td>\n",
              "      <td>7.241033</td>\n",
              "      <td>1</td>\n",
              "      <td>0</td>\n",
              "      <td>0</td>\n",
              "      <td>0</td>\n",
              "      <td>0</td>\n",
              "      <td>0</td>\n",
              "      <td>0</td>\n",
              "      <td>0</td>\n",
              "      <td>0</td>\n",
              "      <td>0</td>\n",
              "      <td>0</td>\n",
              "      <td>0</td>\n",
              "      <td>0</td>\n",
              "      <td>0</td>\n",
              "      <td>0</td>\n",
              "      <td>0</td>\n",
              "      <td>1</td>\n",
              "      <td>0</td>\n",
              "      <td>0</td>\n",
              "      <td>0</td>\n",
              "      <td>0</td>\n",
              "      <td>0</td>\n",
              "      <td>0</td>\n",
              "      <td>0</td>\n",
              "      <td>0</td>\n",
              "      <td>0</td>\n",
              "      <td>0</td>\n",
              "      <td>0</td>\n",
              "      <td>0</td>\n",
              "      <td>0</td>\n",
              "      <td>0</td>\n",
              "      <td>0</td>\n",
              "      <td>17.799999</td>\n",
              "      <td>4.0</td>\n",
              "      <td>11.7</td>\n",
              "      <td>NaN</td>\n",
              "      <td>1021.400024</td>\n",
              "      <td>100.0</td>\n",
              "      <td>3.6</td>\n",
              "      <td>6</td>\n",
              "    </tr>\n",
              "    <tr>\n",
              "      <th>1</th>\n",
              "      <td>1</td>\n",
              "      <td>1</td>\n",
              "      <td>0</td>\n",
              "      <td>2017-01-01</td>\n",
              "      <td>0.0</td>\n",
              "      <td>2720</td>\n",
              "      <td>2004.0</td>\n",
              "      <td>7.133404</td>\n",
              "      <td>1</td>\n",
              "      <td>0</td>\n",
              "      <td>0</td>\n",
              "      <td>0</td>\n",
              "      <td>0</td>\n",
              "      <td>0</td>\n",
              "      <td>0</td>\n",
              "      <td>0</td>\n",
              "      <td>0</td>\n",
              "      <td>0</td>\n",
              "      <td>0</td>\n",
              "      <td>0</td>\n",
              "      <td>0</td>\n",
              "      <td>0</td>\n",
              "      <td>0</td>\n",
              "      <td>0</td>\n",
              "      <td>1</td>\n",
              "      <td>0</td>\n",
              "      <td>0</td>\n",
              "      <td>0</td>\n",
              "      <td>0</td>\n",
              "      <td>0</td>\n",
              "      <td>0</td>\n",
              "      <td>0</td>\n",
              "      <td>0</td>\n",
              "      <td>0</td>\n",
              "      <td>0</td>\n",
              "      <td>0</td>\n",
              "      <td>0</td>\n",
              "      <td>0</td>\n",
              "      <td>0</td>\n",
              "      <td>0</td>\n",
              "      <td>17.799999</td>\n",
              "      <td>4.0</td>\n",
              "      <td>11.7</td>\n",
              "      <td>NaN</td>\n",
              "      <td>1021.400024</td>\n",
              "      <td>100.0</td>\n",
              "      <td>3.6</td>\n",
              "      <td>6</td>\n",
              "    </tr>\n",
              "    <tr>\n",
              "      <th>2</th>\n",
              "      <td>2</td>\n",
              "      <td>2</td>\n",
              "      <td>0</td>\n",
              "      <td>2017-01-01</td>\n",
              "      <td>0.0</td>\n",
              "      <td>5376</td>\n",
              "      <td>1991.0</td>\n",
              "      <td>7.043626</td>\n",
              "      <td>1</td>\n",
              "      <td>0</td>\n",
              "      <td>0</td>\n",
              "      <td>0</td>\n",
              "      <td>0</td>\n",
              "      <td>0</td>\n",
              "      <td>0</td>\n",
              "      <td>0</td>\n",
              "      <td>0</td>\n",
              "      <td>0</td>\n",
              "      <td>0</td>\n",
              "      <td>0</td>\n",
              "      <td>0</td>\n",
              "      <td>0</td>\n",
              "      <td>0</td>\n",
              "      <td>0</td>\n",
              "      <td>1</td>\n",
              "      <td>0</td>\n",
              "      <td>0</td>\n",
              "      <td>0</td>\n",
              "      <td>0</td>\n",
              "      <td>0</td>\n",
              "      <td>0</td>\n",
              "      <td>0</td>\n",
              "      <td>0</td>\n",
              "      <td>0</td>\n",
              "      <td>0</td>\n",
              "      <td>0</td>\n",
              "      <td>0</td>\n",
              "      <td>0</td>\n",
              "      <td>0</td>\n",
              "      <td>0</td>\n",
              "      <td>17.799999</td>\n",
              "      <td>4.0</td>\n",
              "      <td>11.7</td>\n",
              "      <td>NaN</td>\n",
              "      <td>1021.400024</td>\n",
              "      <td>100.0</td>\n",
              "      <td>3.6</td>\n",
              "      <td>6</td>\n",
              "    </tr>\n",
              "    <tr>\n",
              "      <th>3</th>\n",
              "      <td>3</td>\n",
              "      <td>3</td>\n",
              "      <td>0</td>\n",
              "      <td>2017-01-01</td>\n",
              "      <td>0.0</td>\n",
              "      <td>23685</td>\n",
              "      <td>2002.0</td>\n",
              "      <td>7.393734</td>\n",
              "      <td>1</td>\n",
              "      <td>0</td>\n",
              "      <td>0</td>\n",
              "      <td>0</td>\n",
              "      <td>0</td>\n",
              "      <td>0</td>\n",
              "      <td>0</td>\n",
              "      <td>0</td>\n",
              "      <td>0</td>\n",
              "      <td>0</td>\n",
              "      <td>0</td>\n",
              "      <td>0</td>\n",
              "      <td>0</td>\n",
              "      <td>0</td>\n",
              "      <td>0</td>\n",
              "      <td>0</td>\n",
              "      <td>1</td>\n",
              "      <td>0</td>\n",
              "      <td>0</td>\n",
              "      <td>0</td>\n",
              "      <td>0</td>\n",
              "      <td>0</td>\n",
              "      <td>0</td>\n",
              "      <td>0</td>\n",
              "      <td>0</td>\n",
              "      <td>0</td>\n",
              "      <td>0</td>\n",
              "      <td>0</td>\n",
              "      <td>0</td>\n",
              "      <td>0</td>\n",
              "      <td>0</td>\n",
              "      <td>0</td>\n",
              "      <td>17.799999</td>\n",
              "      <td>4.0</td>\n",
              "      <td>11.7</td>\n",
              "      <td>NaN</td>\n",
              "      <td>1021.400024</td>\n",
              "      <td>100.0</td>\n",
              "      <td>3.6</td>\n",
              "      <td>6</td>\n",
              "    </tr>\n",
              "    <tr>\n",
              "      <th>4</th>\n",
              "      <td>4</td>\n",
              "      <td>4</td>\n",
              "      <td>0</td>\n",
              "      <td>2017-01-01</td>\n",
              "      <td>0.0</td>\n",
              "      <td>116607</td>\n",
              "      <td>1975.0</td>\n",
              "      <td>8.419974</td>\n",
              "      <td>1</td>\n",
              "      <td>0</td>\n",
              "      <td>0</td>\n",
              "      <td>0</td>\n",
              "      <td>0</td>\n",
              "      <td>0</td>\n",
              "      <td>0</td>\n",
              "      <td>0</td>\n",
              "      <td>0</td>\n",
              "      <td>0</td>\n",
              "      <td>0</td>\n",
              "      <td>0</td>\n",
              "      <td>0</td>\n",
              "      <td>0</td>\n",
              "      <td>0</td>\n",
              "      <td>0</td>\n",
              "      <td>1</td>\n",
              "      <td>0</td>\n",
              "      <td>0</td>\n",
              "      <td>0</td>\n",
              "      <td>0</td>\n",
              "      <td>0</td>\n",
              "      <td>0</td>\n",
              "      <td>0</td>\n",
              "      <td>0</td>\n",
              "      <td>0</td>\n",
              "      <td>0</td>\n",
              "      <td>0</td>\n",
              "      <td>0</td>\n",
              "      <td>0</td>\n",
              "      <td>0</td>\n",
              "      <td>0</td>\n",
              "      <td>17.799999</td>\n",
              "      <td>4.0</td>\n",
              "      <td>11.7</td>\n",
              "      <td>NaN</td>\n",
              "      <td>1021.400024</td>\n",
              "      <td>100.0</td>\n",
              "      <td>3.6</td>\n",
              "      <td>6</td>\n",
              "    </tr>\n",
              "  </tbody>\n",
              "</table>\n",
              "</div>"
            ],
            "text/plain": [
              "   row_id  building_id  meter  timestamp  seconds  square_feet  year_built  \\\n",
              "0       0            0      0 2017-01-01      0.0         7432      2008.0   \n",
              "1       1            1      0 2017-01-01      0.0         2720      2004.0   \n",
              "2       2            2      0 2017-01-01      0.0         5376      1991.0   \n",
              "3       3            3      0 2017-01-01      0.0        23685      2002.0   \n",
              "4       4            4      0 2017-01-01      0.0       116607      1975.0   \n",
              "\n",
              "   floor_count  site_id__0  site_id__1  site_id__2  site_id__3  site_id__4  \\\n",
              "0     7.241033           1           0           0           0           0   \n",
              "1     7.133404           1           0           0           0           0   \n",
              "2     7.043626           1           0           0           0           0   \n",
              "3     7.393734           1           0           0           0           0   \n",
              "4     8.419974           1           0           0           0           0   \n",
              "\n",
              "   site_id__5  site_id__6  site_id__7  site_id__8  site_id__9  site_id__10  \\\n",
              "0           0           0           0           0           0            0   \n",
              "1           0           0           0           0           0            0   \n",
              "2           0           0           0           0           0            0   \n",
              "3           0           0           0           0           0            0   \n",
              "4           0           0           0           0           0            0   \n",
              "\n",
              "   site_id__11  site_id__12  site_id__13  site_id__14  site_id__15  \\\n",
              "0            0            0            0            0            0   \n",
              "1            0            0            0            0            0   \n",
              "2            0            0            0            0            0   \n",
              "3            0            0            0            0            0   \n",
              "4            0            0            0            0            0   \n",
              "\n",
              "   primary_use__0  primary_use__1  primary_use__2  primary_use__3  \\\n",
              "0               1               0               0               0   \n",
              "1               1               0               0               0   \n",
              "2               1               0               0               0   \n",
              "3               1               0               0               0   \n",
              "4               1               0               0               0   \n",
              "\n",
              "   primary_use__4  primary_use__5  primary_use__6  primary_use__7  \\\n",
              "0               0               0               0               0   \n",
              "1               0               0               0               0   \n",
              "2               0               0               0               0   \n",
              "3               0               0               0               0   \n",
              "4               0               0               0               0   \n",
              "\n",
              "   primary_use__8  primary_use__9  primary_use__10  primary_use__11  \\\n",
              "0               0               0                0                0   \n",
              "1               0               0                0                0   \n",
              "2               0               0                0                0   \n",
              "3               0               0                0                0   \n",
              "4               0               0                0                0   \n",
              "\n",
              "   primary_use__12  primary_use__13  primary_use__14  primary_use__15  \\\n",
              "0                0                0                0                0   \n",
              "1                0                0                0                0   \n",
              "2                0                0                0                0   \n",
              "3                0                0                0                0   \n",
              "4                0                0                0                0   \n",
              "\n",
              "   air_temperature  cloud_coverage  dew_temperature  precip_depth_1_hr  \\\n",
              "0        17.799999             4.0             11.7                NaN   \n",
              "1        17.799999             4.0             11.7                NaN   \n",
              "2        17.799999             4.0             11.7                NaN   \n",
              "3        17.799999             4.0             11.7                NaN   \n",
              "4        17.799999             4.0             11.7                NaN   \n",
              "\n",
              "   sea_level_pressure  wind_direction  wind_speed  dayofweek  \n",
              "0         1021.400024           100.0         3.6          6  \n",
              "1         1021.400024           100.0         3.6          6  \n",
              "2         1021.400024           100.0         3.6          6  \n",
              "3         1021.400024           100.0         3.6          6  \n",
              "4         1021.400024           100.0         3.6          6  "
            ]
          },
          "metadata": {
            "tags": []
          },
          "execution_count": 25
        }
      ]
    },
    {
      "cell_type": "markdown",
      "metadata": {
        "id": "B4Ifu7Z4ip2d",
        "colab_type": "text"
      },
      "source": [
        "# LGBM\n"
      ]
    },
    {
      "cell_type": "markdown",
      "metadata": {
        "id": "W08614cditrI",
        "colab_type": "text"
      },
      "source": [
        "Establish the categorical and feature columns that are going to be utilized by the model"
      ]
    },
    {
      "cell_type": "code",
      "metadata": {
        "id": "TFWOk-UpIy4T",
        "colab_type": "code",
        "colab": {}
      },
      "source": [
        "category_cols = ['building_id']  # , 'meter'\n",
        "feature_cols = ['square_feet', 'year_built'] + [\n",
        "    'dayofweek', 'seconds'] + [\n",
        "    'air_temperature', 'cloud_coverage',\n",
        "    'dew_temperature', 'precip_depth_1_hr', 'sea_level_pressure',\n",
        "    'wind_direction', 'wind_speed'] + ['site_id__0','site_id__1','site_id__2','site_id__3','site_id__4','site_id__5',\n",
        "                                       'site_id__6','site_id__7','site_id__8','site_id__9','site_id__10','site_id__11','site_id__12',\n",
        "                                       'site_id__13','site_id__14','site_id__15'] + ['primary_use__0','primary_use__1','primary_use__2','primary_use__3',\n",
        "                                       'primary_use__4','primary_use__5','primary_use__6','primary_use__7','primary_use__8','primary_use__9','primary_use__10','primary_use__11','primary_use__12',\n",
        "                                       'primary_use__13','primary_use__14','primary_use__15']\n"
      ],
      "execution_count": 0,
      "outputs": []
    },
    {
      "cell_type": "markdown",
      "metadata": {
        "id": "9M_cZV6WI-4j",
        "colab_type": "text"
      },
      "source": [
        "Create the X and Y training sets for the particular meter type"
      ]
    },
    {
      "cell_type": "code",
      "metadata": {
        "id": "oKUlYfsZJPye",
        "colab_type": "code",
        "colab": {}
      },
      "source": [
        "def create_X_y(train_df, target_meter):\n",
        "    target_train_df = train_df[train_df['meter'] == target_meter]\n",
        "    # target_train_df = target_train_df.merge(building_meta_df, on='building_id', how='left')\n",
        "    # target_train_df = target_train_df.merge(weather_train_df, on=['site_id', 'timestamp'], how='left')\n",
        "    X_train = target_train_df[feature_cols + category_cols]\n",
        "    y_train = target_train_df['meter_reading_log1p'].values\n",
        "\n",
        "    del target_train_df\n",
        "    return X_train, y_train"
      ],
      "execution_count": 0,
      "outputs": []
    },
    {
      "cell_type": "markdown",
      "metadata": {
        "id": "fzJu7FsGJVDE",
        "colab_type": "text"
      },
      "source": [
        "Method for fitting the training sets into a lgbm model"
      ]
    },
    {
      "cell_type": "code",
      "metadata": {
        "id": "rzOzkrFMJcCS",
        "colab_type": "code",
        "colab": {}
      },
      "source": [
        "import lightgbm as lgb\n",
        "\n",
        "def fit_lgbm(train, val, devices=(-1,), seed=None, cat_features=None, num_rounds=1500, lr=0.1, bf=0.1):\n",
        "    #Establishing sets of training data and test data for model (valid==test)\n",
        "    X_train, y_train = train\n",
        "    X_valid, y_valid = val\n",
        "    metric = 'l2'\n",
        "    #Parameters for our model\n",
        "    params = {'num_leaves': 31,\n",
        "              'objective': 'regression',\n",
        "              'learning_rate': lr,\n",
        "              \"boosting\": \"gbdt\",\n",
        "              \"bagging_freq\": 5,\n",
        "              \"bagging_fraction\": bf,\n",
        "              \"feature_fraction\": 0.9,\n",
        "              \"metric\": metric,\n",
        "              }\n",
        "              \n",
        "    device = devices[0]\n",
        "    if device == -1:\n",
        "        # use cpu\n",
        "        pass\n",
        "    else:\n",
        "        # use gpu\n",
        "        print(f'using gpu device_id {device}...')\n",
        "        params.update({'device': 'gpu', 'gpu_device_id': device})\n",
        "\n",
        "    params['seed'] = seed\n",
        "\n",
        "    early_stop = 20\n",
        "    verbose_eval = 20\n",
        "\n",
        "    #Creating lgbm dataset versions\n",
        "    d_train = lgb.Dataset(X_train, label=y_train, categorical_feature=cat_features)\n",
        "    d_valid = lgb.Dataset(X_valid, label=y_valid, categorical_feature=cat_features)\n",
        "    watchlist = [d_train, d_valid]\n",
        "\n",
        "    print('training LGB:')\n",
        "    model = lgb.train(params,\n",
        "                      train_set=d_train,\n",
        "                      num_boost_round=num_rounds,\n",
        "                      valid_sets=watchlist,\n",
        "                      verbose_eval=verbose_eval,\n",
        "                      early_stopping_rounds=early_stop)\n",
        "    \n",
        "\n",
        "    # predictions\n",
        "    y_pred_valid = model.predict(X_valid, num_iteration=model.best_iteration)\n",
        "    \n",
        "    print('best_score', model.best_score)\n",
        "    log = {'train/mae': model.best_score['training']['l2'],\n",
        "           'valid/mae': model.best_score['valid_1']['l2']}\n",
        "    return model, y_pred_valid, log\n"
      ],
      "execution_count": 0,
      "outputs": []
    },
    {
      "cell_type": "code",
      "metadata": {
        "id": "gUGA2GzmOq5_",
        "colab_type": "code",
        "colab": {}
      },
      "source": [
        "import pickle\n",
        "\n"
      ],
      "execution_count": 0,
      "outputs": []
    },
    {
      "cell_type": "markdown",
      "metadata": {
        "id": "kYyCwvgEKI12",
        "colab_type": "text"
      },
      "source": [
        "Cross Validation Portion"
      ]
    },
    {
      "cell_type": "code",
      "metadata": {
        "id": "z-0UYs_gKLK_",
        "colab_type": "code",
        "colab": {}
      },
      "source": [
        "import numpy as np\n",
        "from sklearn.model_selection import KFold\n",
        "\n",
        "folds = 2\n",
        "seed = 1\n",
        "shuffle = False\n",
        "kf = KFold(n_splits=folds, shuffle=shuffle, random_state=seed)"
      ],
      "execution_count": 0,
      "outputs": []
    },
    {
      "cell_type": "markdown",
      "metadata": {
        "id": "X0unw6CLJd12",
        "colab_type": "text"
      },
      "source": [
        "Training for the electricity meter type"
      ]
    },
    {
      "cell_type": "code",
      "metadata": {
        "id": "550gczGSJlCF",
        "colab_type": "code",
        "outputId": "f5819707-a2e7-45cb-8d04-2b2b3f1eb9d7",
        "colab": {
          "base_uri": "https://localhost:8080/",
          "height": 681
        }
      },
      "source": [
        "import seaborn as sns\n",
        "target_meter = 0\n",
        "X_train, y_train = create_X_y(train_df, target_meter=target_meter)\n",
        "y_valid_pred_total = np.zeros(X_train.shape[0])\n",
        "gc.collect()\n",
        "print('target_meter', target_meter, X_train.shape)\n",
        "\n",
        "cat_features = [X_train.columns.get_loc(cat_col) for cat_col in category_cols]\n",
        "print('cat_features', cat_features)\n",
        "\n",
        "models0 = []\n",
        "for train_idx, valid_idx in kf.split(X_train, y_train):\n",
        "    train_data = X_train.iloc[train_idx,:], y_train[train_idx]\n",
        "    valid_data = X_train.iloc[valid_idx,:], y_train[valid_idx]\n",
        "\n",
        "    print('train', len(train_idx), 'valid', len(valid_idx))\n",
        "    model, y_pred_valid, log = fit_lgbm(train_data, valid_data, cat_features=category_cols,\n",
        "                                        num_rounds=1000, lr=0.05, bf=0.7)\n",
        "    y_valid_pred_total[valid_idx] = y_pred_valid\n",
        "    models0.append(model)\n",
        "    gc.collect()\n",
        "\n",
        "sns.distplot(y_train)\n",
        "del X_train, y_train\n",
        "gc.collect()"
      ],
      "execution_count": 0,
      "outputs": [
        {
          "output_type": "stream",
          "text": [
            "target_meter 0 (11143719, 44)\n",
            "cat_features [43]\n",
            "train 5571859 valid 5571860\n",
            "training LGB:\n"
          ],
          "name": "stdout"
        },
        {
          "output_type": "stream",
          "text": [
            "/usr/local/lib/python3.6/dist-packages/lightgbm/basic.py:1205: UserWarning: Using categorical_feature in Dataset.\n",
            "  warnings.warn('Using categorical_feature in Dataset.')\n",
            "/usr/local/lib/python3.6/dist-packages/lightgbm/basic.py:762: UserWarning: categorical_feature in param dict is overridden.\n",
            "  warnings.warn('categorical_feature in param dict is overridden.')\n"
          ],
          "name": "stderr"
        },
        {
          "output_type": "stream",
          "text": [
            "Training until validation scores don't improve for 20 rounds.\n",
            "[20]\ttraining's l2: 0.726644\tvalid_1's l2: 0.827855\n",
            "[40]\ttraining's l2: 0.426147\tvalid_1's l2: 0.721747\n",
            "Early stopping, best iteration is:\n",
            "[32]\ttraining's l2: 0.487498\tvalid_1's l2: 0.676584\n",
            "best_score defaultdict(<class 'dict'>, {'training': {'l2': 0.48749762222011184}, 'valid_1': {'l2': 0.6765836522972911}})\n",
            "train 5571860 valid 5571859\n",
            "training LGB:\n",
            "Training until validation scores don't improve for 20 rounds.\n",
            "[20]\ttraining's l2: 0.662274\tvalid_1's l2: 0.868426\n",
            "[40]\ttraining's l2: 0.359202\tvalid_1's l2: 0.93597\n",
            "Early stopping, best iteration is:\n",
            "[27]\ttraining's l2: 0.486173\tvalid_1's l2: 0.816379\n",
            "best_score defaultdict(<class 'dict'>, {'training': {'l2': 0.48617269047493333}, 'valid_1': {'l2': 0.8163791632511322}})\n"
          ],
          "name": "stdout"
        },
        {
          "output_type": "execute_result",
          "data": {
            "text/plain": [
              "10"
            ]
          },
          "metadata": {
            "tags": []
          },
          "execution_count": 46
        },
        {
          "output_type": "display_data",
          "data": {
            "image/png": "[encoded data removed]",
            "text/plain": [
              "<Figure size 432x288 with 1 Axes>"
            ]
          },
          "metadata": {
            "tags": []
          }
        }
      ]
    },
    {
      "cell_type": "markdown",
      "metadata": {
        "id": "RvUAtibDTT1V",
        "colab_type": "text"
      },
      "source": [
        "Training for the chilled water meter type"
      ]
    },
    {
      "cell_type": "code",
      "metadata": {
        "id": "0zHw27QtTM6T",
        "colab_type": "code",
        "outputId": "82c3eb7f-b235-4ef0-a6fd-0870984df3ba",
        "colab": {
          "base_uri": "https://localhost:8080/",
          "height": 732
        }
      },
      "source": [
        "target_meter = 1\n",
        "X_train, y_train = create_X_y(train_df, target_meter=target_meter)\n",
        "y_valid_pred_total = np.zeros(X_train.shape[0])\n",
        "gc.collect()\n",
        "print('target_meter', target_meter, X_train.shape)\n",
        "\n",
        "cat_features = [X_train.columns.get_loc(cat_col) for cat_col in category_cols]\n",
        "print('cat_features', cat_features)\n",
        "\n",
        "models1 = []\n",
        "for train_idx, valid_idx in kf.split(X_train, y_train):\n",
        "    train_data = X_train.iloc[train_idx,:], y_train[train_idx]\n",
        "    valid_data = X_train.iloc[valid_idx,:], y_train[valid_idx]\n",
        "\n",
        "    print('train', len(train_idx), 'valid', len(valid_idx))\n",
        "    model, y_pred_valid, log = fit_lgbm(train_data, valid_data, cat_features=category_cols, num_rounds=1000,\n",
        "                                       lr=0.05, bf=0.5)\n",
        "    y_valid_pred_total[valid_idx] = y_pred_valid\n",
        "    models1.append(model)\n",
        "    gc.collect()\n",
        "\n",
        "\n",
        "sns.distplot(y_train)\n",
        "del X_train, y_train\n",
        "gc.collect()"
      ],
      "execution_count": 0,
      "outputs": [
        {
          "output_type": "stream",
          "text": [
            "target_meter 1 (4014187, 44)\n",
            "cat_features [43]\n",
            "train 2007093 valid 2007094\n",
            "training LGB:\n"
          ],
          "name": "stdout"
        },
        {
          "output_type": "stream",
          "text": [
            "/usr/local/lib/python3.6/dist-packages/lightgbm/basic.py:1205: UserWarning: Using categorical_feature in Dataset.\n",
            "  warnings.warn('Using categorical_feature in Dataset.')\n",
            "/usr/local/lib/python3.6/dist-packages/lightgbm/basic.py:762: UserWarning: categorical_feature in param dict is overridden.\n",
            "  warnings.warn('categorical_feature in param dict is overridden.')\n"
          ],
          "name": "stderr"
        },
        {
          "output_type": "stream",
          "text": [
            "Training until validation scores don't improve for 20 rounds.\n",
            "[20]\ttraining's l2: 2.25716\tvalid_1's l2: 3.0353\n",
            "[40]\ttraining's l2: 1.54065\tvalid_1's l2: 2.6069\n",
            "[60]\ttraining's l2: 1.2962\tvalid_1's l2: 2.5891\n",
            "[80]\ttraining's l2: 1.18037\tvalid_1's l2: 2.56981\n",
            "[100]\ttraining's l2: 1.10833\tvalid_1's l2: 2.57908\n",
            "Early stopping, best iteration is:\n",
            "[81]\ttraining's l2: 1.17752\tvalid_1's l2: 2.56677\n",
            "best_score defaultdict(<class 'dict'>, {'training': {'l2': 1.1775162270148771}, 'valid_1': {'l2': 2.5667699120412264}})\n",
            "train 2007094 valid 2007093\n",
            "training LGB:\n",
            "Training until validation scores don't improve for 20 rounds.\n",
            "[20]\ttraining's l2: 2.16207\tvalid_1's l2: 3.98583\n",
            "[40]\ttraining's l2: 1.40782\tvalid_1's l2: 4.4516\n",
            "Early stopping, best iteration is:\n",
            "[21]\ttraining's l2: 2.09185\tvalid_1's l2: 3.91512\n",
            "best_score defaultdict(<class 'dict'>, {'training': {'l2': 2.091854287710204}, 'valid_1': {'l2': 3.915117628813213}})\n"
          ],
          "name": "stdout"
        },
        {
          "output_type": "execute_result",
          "data": {
            "text/plain": [
              "10"
            ]
          },
          "metadata": {
            "tags": []
          },
          "execution_count": 48
        },
        {
          "output_type": "display_data",
          "data": {
            "image/png": "[encoded data removed]",
            "text/plain": [
              "<Figure size 432x288 with 1 Axes>"
            ]
          },
          "metadata": {
            "tags": []
          }
        }
      ]
    },
    {
      "cell_type": "markdown",
      "metadata": {
        "id": "PN1YJgj-Ujla",
        "colab_type": "text"
      },
      "source": [
        "Training for the steam meter type"
      ]
    },
    {
      "cell_type": "code",
      "metadata": {
        "id": "ZkHwRGZPUpPk",
        "colab_type": "code",
        "outputId": "3bc16251-2685-4c8a-c62e-b2e69f33ab7a",
        "colab": {
          "base_uri": "https://localhost:8080/",
          "height": 887
        }
      },
      "source": [
        "target_meter = 2\n",
        "X_train, y_train = create_X_y(train_df, target_meter=target_meter)\n",
        "y_valid_pred_total = np.zeros(X_train.shape[0])\n",
        "\n",
        "gc.collect()\n",
        "print('target_meter', target_meter, X_train.shape)\n",
        "\n",
        "cat_features = [X_train.columns.get_loc(cat_col) for cat_col in category_cols]\n",
        "print('cat_features', cat_features)\n",
        "\n",
        "models2 = []\n",
        "for train_idx, valid_idx in kf.split(X_train, y_train):\n",
        "    train_data = X_train.iloc[train_idx,:], y_train[train_idx]\n",
        "    valid_data = X_train.iloc[valid_idx,:], y_train[valid_idx]\n",
        "\n",
        "    print('train', len(train_idx), 'valid', len(valid_idx))\n",
        "    model, y_pred_valid, log = fit_lgbm(train_data, valid_data, cat_features=category_cols,\n",
        "                                        num_rounds=1000, lr=0.05, bf=0.8)\n",
        "    y_valid_pred_total[valid_idx] = y_pred_valid\n",
        "    models2.append(model)\n",
        "    gc.collect()\n",
        "\n",
        "sns.distplot(y_train)\n",
        "del X_train, y_train\n",
        "gc.collect()"
      ],
      "execution_count": 0,
      "outputs": [
        {
          "output_type": "stream",
          "text": [
            "target_meter 2 (2699929, 44)\n",
            "cat_features [43]\n",
            "train 1349964 valid 1349965\n",
            "training LGB:\n"
          ],
          "name": "stdout"
        },
        {
          "output_type": "stream",
          "text": [
            "/usr/local/lib/python3.6/dist-packages/lightgbm/basic.py:1205: UserWarning: Using categorical_feature in Dataset.\n",
            "  warnings.warn('Using categorical_feature in Dataset.')\n",
            "/usr/local/lib/python3.6/dist-packages/lightgbm/basic.py:762: UserWarning: categorical_feature in param dict is overridden.\n",
            "  warnings.warn('categorical_feature in param dict is overridden.')\n"
          ],
          "name": "stderr"
        },
        {
          "output_type": "stream",
          "text": [
            "Training until validation scores don't improve for 20 rounds.\n",
            "[20]\ttraining's l2: 2.38814\tvalid_1's l2: 3.42145\n",
            "[40]\ttraining's l2: 1.55199\tvalid_1's l2: 3.17139\n",
            "[60]\ttraining's l2: 1.31268\tvalid_1's l2: 3.13691\n",
            "[80]\ttraining's l2: 1.21428\tvalid_1's l2: 3.06815\n",
            "[100]\ttraining's l2: 1.15222\tvalid_1's l2: 3.05079\n",
            "[120]\ttraining's l2: 1.11634\tvalid_1's l2: 3.03663\n",
            "[140]\ttraining's l2: 1.08203\tvalid_1's l2: 3.03743\n",
            "Early stopping, best iteration is:\n",
            "[128]\ttraining's l2: 1.09914\tvalid_1's l2: 3.02754\n",
            "best_score defaultdict(<class 'dict'>, {'training': {'l2': 1.0991405837531072}, 'valid_1': {'l2': 3.027535279222967}})\n",
            "train 1349965 valid 1349964\n",
            "training LGB:\n",
            "Training until validation scores don't improve for 20 rounds.\n",
            "[20]\ttraining's l2: 2.45648\tvalid_1's l2: 3.0686\n",
            "[40]\ttraining's l2: 1.61733\tvalid_1's l2: 2.58198\n",
            "[60]\ttraining's l2: 1.37494\tvalid_1's l2: 2.52937\n",
            "[80]\ttraining's l2: 1.26466\tvalid_1's l2: 2.51414\n",
            "[100]\ttraining's l2: 1.19893\tvalid_1's l2: 2.50468\n",
            "[120]\ttraining's l2: 1.14372\tvalid_1's l2: 2.4939\n",
            "[140]\ttraining's l2: 1.1026\tvalid_1's l2: 2.48967\n",
            "[160]\ttraining's l2: 1.07728\tvalid_1's l2: 2.48371\n",
            "[180]\ttraining's l2: 1.0534\tvalid_1's l2: 2.48419\n",
            "Early stopping, best iteration is:\n",
            "[163]\ttraining's l2: 1.07366\tvalid_1's l2: 2.48303\n",
            "best_score defaultdict(<class 'dict'>, {'training': {'l2': 1.0736560610321888}, 'valid_1': {'l2': 2.4830284146994357}})\n"
          ],
          "name": "stdout"
        },
        {
          "output_type": "execute_result",
          "data": {
            "text/plain": [
              "10"
            ]
          },
          "metadata": {
            "tags": []
          },
          "execution_count": 50
        },
        {
          "output_type": "display_data",
          "data": {
            "image/png": "[encoded data removed]",
            "text/plain": [
              "<Figure size 432x288 with 1 Axes>"
            ]
          },
          "metadata": {
            "tags": []
          }
        }
      ]
    },
    {
      "cell_type": "markdown",
      "metadata": {
        "id": "aplCeCfNU_EQ",
        "colab_type": "text"
      },
      "source": [
        "Training for the hot water meter type"
      ]
    },
    {
      "cell_type": "code",
      "metadata": {
        "id": "8NTQxSdVVR4c",
        "colab_type": "code",
        "outputId": "e677af16-5cfc-4d4b-9d0c-1d180beed0cb",
        "colab": {
          "base_uri": "https://localhost:8080/",
          "height": 767
        }
      },
      "source": [
        "target_meter = 3\n",
        "X_train, y_train = create_X_y(train_df, target_meter=target_meter)\n",
        "y_valid_pred_total = np.zeros(X_train.shape[0])\n",
        "\n",
        "gc.collect()\n",
        "print('target_meter', target_meter, X_train.shape)\n",
        "\n",
        "cat_features = [X_train.columns.get_loc(cat_col) for cat_col in category_cols]\n",
        "print('cat_features', cat_features)\n",
        "\n",
        "models3 = []\n",
        "for train_idx, valid_idx in kf.split(X_train, y_train):\n",
        "    train_data = X_train.iloc[train_idx,:], y_train[train_idx]\n",
        "    valid_data = X_train.iloc[valid_idx,:], y_train[valid_idx]\n",
        "\n",
        "    print('train', len(train_idx), 'valid', len(valid_idx))\n",
        "    model, y_pred_valid, log = fit_lgbm(train_data, valid_data, cat_features=category_cols, num_rounds=1000,lr=0.03, bf=0.9)\n",
        "    y_valid_pred_total[valid_idx] = y_pred_valid\n",
        "    models3.append(model)\n",
        "    gc.collect()\n",
        "\n",
        "\n",
        "sns.distplot(y_train)\n",
        "del X_train, y_train\n",
        "gc.collect()\n",
        "                                        "
      ],
      "execution_count": 0,
      "outputs": [
        {
          "output_type": "stream",
          "text": [
            "target_meter 3 (1264037, 44)\n",
            "cat_features [43]\n",
            "train 632018 valid 632019\n",
            "training LGB:\n"
          ],
          "name": "stdout"
        },
        {
          "output_type": "stream",
          "text": [
            "/usr/local/lib/python3.6/dist-packages/lightgbm/basic.py:1205: UserWarning: Using categorical_feature in Dataset.\n",
            "  warnings.warn('Using categorical_feature in Dataset.')\n",
            "/usr/local/lib/python3.6/dist-packages/lightgbm/basic.py:762: UserWarning: categorical_feature in param dict is overridden.\n",
            "  warnings.warn('categorical_feature in param dict is overridden.')\n"
          ],
          "name": "stderr"
        },
        {
          "output_type": "stream",
          "text": [
            "Training until validation scores don't improve for 20 rounds.\n",
            "[20]\ttraining's l2: 3.43945\tvalid_1's l2: 4.87617\n",
            "[40]\ttraining's l2: 2.33954\tvalid_1's l2: 4.30333\n",
            "[60]\ttraining's l2: 1.95697\tvalid_1's l2: 4.19718\n",
            "Early stopping, best iteration is:\n",
            "[57]\ttraining's l2: 2.00048\tvalid_1's l2: 4.17384\n",
            "best_score defaultdict(<class 'dict'>, {'training': {'l2': 2.000480360318138}, 'valid_1': {'l2': 4.173835014810186}})\n",
            "train 632019 valid 632018\n",
            "training LGB:\n",
            "Training until validation scores don't improve for 20 rounds.\n",
            "[20]\ttraining's l2: 3.23884\tvalid_1's l2: 4.32684\n",
            "[40]\ttraining's l2: 2.1643\tvalid_1's l2: 3.42664\n",
            "[60]\ttraining's l2: 1.79562\tvalid_1's l2: 3.15602\n",
            "[80]\ttraining's l2: 1.60574\tvalid_1's l2: 3.07258\n",
            "[100]\ttraining's l2: 1.50631\tvalid_1's l2: 3.04671\n",
            "[120]\ttraining's l2: 1.45155\tvalid_1's l2: 3.03964\n",
            "Early stopping, best iteration is:\n",
            "[108]\ttraining's l2: 1.48389\tvalid_1's l2: 3.03328\n",
            "best_score defaultdict(<class 'dict'>, {'training': {'l2': 1.483886262036968}, 'valid_1': {'l2': 3.0332843241240344}})\n"
          ],
          "name": "stdout"
        },
        {
          "output_type": "execute_result",
          "data": {
            "text/plain": [
              "10"
            ]
          },
          "metadata": {
            "tags": []
          },
          "execution_count": 51
        },
        {
          "output_type": "display_data",
          "data": {
            "image/png": "[encoded data removed]",
            "text/plain": [
              "<Figure size 432x288 with 1 Axes>"
            ]
          },
          "metadata": {
            "tags": []
          }
        }
      ]
    },
    {
      "cell_type": "markdown",
      "metadata": {
        "id": "Fte5aS1udpe0",
        "colab_type": "text"
      },
      "source": [
        "Utilizing model on the test data"
      ]
    },
    {
      "cell_type": "code",
      "metadata": {
        "id": "aLn0j-54etm7",
        "colab_type": "code",
        "colab": {}
      },
      "source": [
        "def create_X(test_df, target_meter):\n",
        "    target_test_df = test_df[test_df['meter'] == target_meter]\n",
        "    # target_test_df = target_test_df.merge(building_meta_df, on='building_id', how='left')\n",
        "    # target_test_df = target_test_df.merge(weather_test_df, on=['site_id', 'timestamp'], how='left')\n",
        "    X_test = target_test_df[feature_cols + category_cols]\n",
        "    return X_test"
      ],
      "execution_count": 0,
      "outputs": []
    },
    {
      "cell_type": "code",
      "metadata": {
        "id": "ukQ4ZdXYw9s7",
        "colab_type": "code",
        "colab": {}
      },
      "source": [
        "from tqdm import tqdm\n",
        "def pred(X_test, models, batch_size=1000000):\n",
        "    iterations = (X_test.shape[0] + batch_size -1) // batch_size\n",
        "    print('iterations', iterations)\n",
        "\n",
        "    y_test_pred_total = np.zeros(X_test.shape[0])\n",
        "    for i, model in enumerate(models):\n",
        "        print(f'predicting {i}-th model')\n",
        "        for k in tqdm(range(iterations)):\n",
        "            y_pred_test = model.predict(X_test[k*batch_size:(k+1)*batch_size], num_iteration=model.best_iteration)\n",
        "            y_test_pred_total[k*batch_size:(k+1)*batch_size] += y_pred_test\n",
        "\n",
        "    y_test_pred_total /= len(models)\n",
        "    return y_test_pred_total"
      ],
      "execution_count": 0,
      "outputs": []
    },
    {
      "cell_type": "code",
      "metadata": {
        "id": "9nD44QIJevK5",
        "colab_type": "code",
        "outputId": "3f39ef54-6d59-41aa-e76a-194dfbd9576d",
        "colab": {
          "base_uri": "https://localhost:8080/",
          "height": 385
        }
      },
      "source": [
        "X_test = create_X(test_df, target_meter=0)\n",
        "gc.collect()\n",
        "\n",
        "y_test0 = pred(X_test, models0)\n",
        "\n",
        "sns.distplot(y_test0)\n",
        "\n",
        "gc.collect()\n"
      ],
      "execution_count": 0,
      "outputs": [
        {
          "output_type": "stream",
          "text": [
            "\r  0%|          | 0/25 [00:00<?, ?it/s]"
          ],
          "name": "stderr"
        },
        {
          "output_type": "stream",
          "text": [
            "iterations 25\n",
            "predicting 0-th model\n"
          ],
          "name": "stdout"
        },
        {
          "output_type": "stream",
          "text": [
            "100%|██████████| 25/25 [00:36<00:00,  1.43s/it]\n",
            "  0%|          | 0/25 [00:00<?, ?it/s]"
          ],
          "name": "stderr"
        },
        {
          "output_type": "stream",
          "text": [
            "predicting 1-th model\n"
          ],
          "name": "stdout"
        },
        {
          "output_type": "stream",
          "text": [
            "100%|██████████| 25/25 [00:31<00:00,  1.25s/it]\n"
          ],
          "name": "stderr"
        },
        {
          "output_type": "stream",
          "text": [
            "CPU times: user 3min 59s, sys: 284 ms, total: 4min\n",
            "Wall time: 1min 23s\n"
          ],
          "name": "stdout"
        },
        {
          "output_type": "display_data",
          "data": {
            "image/png": "[encoded data removed]",
            "text/plain": [
              "<Figure size 432x288 with 1 Axes>"
            ]
          },
          "metadata": {
            "tags": []
          }
        }
      ]
    },
    {
      "cell_type": "code",
      "metadata": {
        "id": "lRNT6A2uX-f3",
        "colab_type": "code",
        "outputId": "5d01008b-8ede-4f2f-8b8c-12950c9c6c98",
        "colab": {
          "base_uri": "https://localhost:8080/",
          "height": 388
        }
      },
      "source": [
        "X_test = create_X(test_df, target_meter=1)\n",
        "gc.collect()\n",
        "\n",
        "y_test1 = pred(X_test, models1)\n",
        "sns.distplot(y_test1)\n",
        "\n",
        "del X_test\n",
        "gc.collect()"
      ],
      "execution_count": 0,
      "outputs": [
        {
          "output_type": "stream",
          "text": [
            "\r  0%|          | 0/9 [00:00<?, ?it/s]"
          ],
          "name": "stderr"
        },
        {
          "output_type": "stream",
          "text": [
            "iterations 9\n",
            "predicting 0-th model\n"
          ],
          "name": "stdout"
        },
        {
          "output_type": "stream",
          "text": [
            "100%|██████████| 9/9 [00:22<00:00,  2.38s/it]\n",
            "  0%|          | 0/9 [00:00<?, ?it/s]"
          ],
          "name": "stderr"
        },
        {
          "output_type": "stream",
          "text": [
            "predicting 1-th model\n"
          ],
          "name": "stdout"
        },
        {
          "output_type": "stream",
          "text": [
            "100%|██████████| 9/9 [00:08<00:00,  1.06it/s]\n"
          ],
          "name": "stderr"
        },
        {
          "output_type": "stream",
          "text": [
            "CPU times: user 1min 50s, sys: 115 ms, total: 1min 50s\n",
            "Wall time: 37.2 s\n"
          ],
          "name": "stdout"
        },
        {
          "output_type": "display_data",
          "data": {
            "image/png": "[encoded data removed]",
            "text/plain": [
              "<Figure size 432x288 with 1 Axes>"
            ]
          },
          "metadata": {
            "tags": []
          }
        }
      ]
    },
    {
      "cell_type": "code",
      "metadata": {
        "id": "JHN7WcqiYBFu",
        "colab_type": "code",
        "outputId": "7c02fefa-1c84-4aca-fd8b-093e3e64df2a",
        "colab": {
          "base_uri": "https://localhost:8080/",
          "height": 368
        }
      },
      "source": [
        "X_test = create_X(test_df, target_meter=2)\n",
        "gc.collect()\n",
        "\n",
        "y_test2 = pred(X_test, models2)\n",
        "sns.distplot(y_test2)\n",
        "\n",
        "del X_test\n",
        "gc.collect()"
      ],
      "execution_count": 0,
      "outputs": [
        {
          "output_type": "stream",
          "text": [
            "\r  0%|          | 0/6 [00:00<?, ?it/s]"
          ],
          "name": "stderr"
        },
        {
          "output_type": "stream",
          "text": [
            "iterations 6\n",
            "predicting 0-th model\n"
          ],
          "name": "stdout"
        },
        {
          "output_type": "stream",
          "text": [
            "100%|██████████| 6/6 [00:19<00:00,  3.18s/it]\n",
            "  0%|          | 0/6 [00:00<?, ?it/s]"
          ],
          "name": "stderr"
        },
        {
          "output_type": "stream",
          "text": [
            "predicting 1-th model\n"
          ],
          "name": "stdout"
        },
        {
          "output_type": "stream",
          "text": [
            "100%|██████████| 6/6 [00:24<00:00,  3.94s/it]\n"
          ],
          "name": "stderr"
        },
        {
          "output_type": "execute_result",
          "data": {
            "text/plain": [
              "14"
            ]
          },
          "metadata": {
            "tags": []
          },
          "execution_count": 56
        },
        {
          "output_type": "display_data",
          "data": {
            "image/png": "[encoded data removed]",
            "text/plain": [
              "<Figure size 432x288 with 1 Axes>"
            ]
          },
          "metadata": {
            "tags": []
          }
        }
      ]
    },
    {
      "cell_type": "code",
      "metadata": {
        "id": "10bJJ6_bYFaC",
        "colab_type": "code",
        "outputId": "b7497805-519f-4be8-9106-adaa6dbe11a2",
        "colab": {
          "base_uri": "https://localhost:8080/",
          "height": 368
        }
      },
      "source": [
        "X_test = create_X(test_df, target_meter=3)\n",
        "gc.collect()\n",
        "\n",
        "y_test3 = pred(X_test, models3)\n",
        "sns.distplot(y_test3)\n",
        "\n",
        "del X_test\n",
        "gc.collect()"
      ],
      "execution_count": 0,
      "outputs": [
        {
          "output_type": "stream",
          "text": [
            "\r  0%|          | 0/3 [00:00<?, ?it/s]"
          ],
          "name": "stderr"
        },
        {
          "output_type": "stream",
          "text": [
            "iterations 3\n",
            "predicting 0-th model\n"
          ],
          "name": "stdout"
        },
        {
          "output_type": "stream",
          "text": [
            "100%|██████████| 3/3 [00:04<00:00,  1.42s/it]\n",
            "  0%|          | 0/3 [00:00<?, ?it/s]"
          ],
          "name": "stderr"
        },
        {
          "output_type": "stream",
          "text": [
            "predicting 1-th model\n"
          ],
          "name": "stdout"
        },
        {
          "output_type": "stream",
          "text": [
            "100%|██████████| 3/3 [00:07<00:00,  2.42s/it]\n"
          ],
          "name": "stderr"
        },
        {
          "output_type": "execute_result",
          "data": {
            "text/plain": [
              "14"
            ]
          },
          "metadata": {
            "tags": []
          },
          "execution_count": 57
        },
        {
          "output_type": "display_data",
          "data": {
            "image/png": "[encoded data removed]",
            "text/plain": [
              "<Figure size 432x288 with 1 Axes>"
            ]
          },
          "metadata": {
            "tags": []
          }
        }
      ]
    },
    {
      "cell_type": "code",
      "metadata": {
        "id": "SP8XTne82KlZ",
        "colab_type": "code",
        "colab": {}
      },
      "source": [
        "submission_df = pd.read_csv('{/content}/competitions/ashrae-energy-prediction/sample_submission.csv.zip')\n",
        "\n",
        "submission_df.loc[test_df['meter'] == 0, 'meter_reading'] = np.expm1(y_test0)\n",
        "submission_df.loc[test_df['meter'] == 1, 'meter_reading'] = np.expm1(y_test1)\n",
        "submission_df.loc[test_df['meter'] == 2, 'meter_reading'] = np.expm1(y_test2)\n",
        "submission_df.loc[test_df['meter'] == 3, 'meter_reading'] = np.expm1(y_test3)\n",
        "\n",
        "submission_df.to_csv('sample_submission.csv')"
      ],
      "execution_count": 0,
      "outputs": []
    },
    {
      "cell_type": "code",
      "metadata": {
        "id": "uQZIPBtnZVhK",
        "colab_type": "code",
        "outputId": "92022f77-88ad-48af-c8e3-ad37f2b13c2c",
        "colab": {
          "base_uri": "https://localhost:8080/",
          "height": 17
        }
      },
      "source": [
        "from google.colab import files \n",
        "files.download('sample_submission.csv')"
      ],
      "execution_count": 0,
      "outputs": [
        {
          "output_type": "stream",
          "text": [
            "----------------------------------------\n",
            "Exception happened during processing of request from ('::ffff:127.0.0.1', 42934, 0, 0)\n",
            "Traceback (most recent call last):\n",
            "  File \"/usr/lib/python3.6/socketserver.py\", line 320, in _handle_request_noblock\n",
            "    self.process_request(request, client_address)\n",
            "  File \"/usr/lib/python3.6/socketserver.py\", line 351, in process_request\n",
            "    self.finish_request(request, client_address)\n",
            "  File \"/usr/lib/python3.6/socketserver.py\", line 364, in finish_request\n",
            "    self.RequestHandlerClass(request, client_address, self)\n",
            "  File \"/usr/lib/python3.6/socketserver.py\", line 724, in __init__\n",
            "    self.handle()\n",
            "  File \"/usr/lib/python3.6/http/server.py\", line 418, in handle\n",
            "    self.handle_one_request()\n",
            "  File \"/usr/lib/python3.6/http/server.py\", line 406, in handle_one_request\n",
            "    method()\n",
            "  File \"/usr/lib/python3.6/http/server.py\", line 639, in do_GET\n",
            "    self.copyfile(f, self.wfile)\n",
            "  File \"/usr/lib/python3.6/http/server.py\", line 800, in copyfile\n",
            "    shutil.copyfileobj(source, outputfile)\n",
            "  File \"/usr/lib/python3.6/shutil.py\", line 82, in copyfileobj\n",
            "    fdst.write(buf)\n",
            "  File \"/usr/lib/python3.6/socketserver.py\", line 803, in write\n",
            "    self._sock.sendall(b)\n",
            "ConnectionResetError: [Errno 104] Connection reset by peer\n",
            "----------------------------------------\n"
          ],
          "name": "stderr"
        }
      ]
    }
  ]
}